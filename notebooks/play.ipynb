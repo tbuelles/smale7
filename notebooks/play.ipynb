{
 "cells": [
  {
   "cell_type": "code",
   "execution_count": 4,
   "metadata": {},
   "outputs": [
    {
     "ename": "ImportError",
     "evalue": "attempted relative import with no known parent package",
     "output_type": "error",
     "traceback": [
      "\u001b[0;31m---------------------------------------------------------------------------\u001b[0m",
      "\u001b[0;31mImportError\u001b[0m                               Traceback (most recent call last)",
      "Cell \u001b[0;32mIn[4], line 5\u001b[0m\n\u001b[1;32m      3\u001b[0m \u001b[38;5;28;01mfrom\u001b[39;00m \u001b[38;5;21;01mmpl_toolkits\u001b[39;00m\u001b[38;5;21;01m.\u001b[39;00m\u001b[38;5;21;01mmplot3d\u001b[39;00m \u001b[38;5;28;01mimport\u001b[39;00m Axes3D\n\u001b[1;32m      4\u001b[0m \u001b[38;5;28;01mfrom\u001b[39;00m \u001b[38;5;21;01mitertools\u001b[39;00m \u001b[38;5;28;01mimport\u001b[39;00m combinations\n\u001b[0;32m----> 5\u001b[0m \u001b[38;5;28;01mfrom\u001b[39;00m \u001b[38;5;21;01m.\u001b[39;00m\u001b[38;5;21;01m.\u001b[39;00m\u001b[38;5;21;01msrc\u001b[39;00m\u001b[38;5;21;01m.\u001b[39;00m\u001b[38;5;21;01mutils\u001b[39;00m\u001b[38;5;21;01m.\u001b[39;00m\u001b[38;5;21;01mvisualization\u001b[39;00m \u001b[38;5;28;01mimport\u001b[39;00m plot_thomson\n\u001b[1;32m      7\u001b[0m \u001b[38;5;28;01mdef\u001b[39;00m \u001b[38;5;21mthomson_solution\u001b[39m(N):\n\u001b[1;32m      8\u001b[0m \u001b[38;5;250m    \u001b[39m\u001b[38;5;124;03m\"\"\"\u001b[39;00m\n\u001b[1;32m      9\u001b[0m \u001b[38;5;124;03m    Placeholder function for generating particle positions on a sphere.\u001b[39;00m\n\u001b[1;32m     10\u001b[0m \u001b[38;5;124;03m    Uses random points on a sphere for demonstration.\u001b[39;00m\n\u001b[1;32m     11\u001b[0m \u001b[38;5;124;03m    Replace with actual Thomson Problem solver.\u001b[39;00m\n\u001b[1;32m     12\u001b[0m \u001b[38;5;124;03m    \"\"\"\u001b[39;00m\n",
      "\u001b[0;31mImportError\u001b[0m: attempted relative import with no known parent package"
     ]
    }
   ],
   "source": [
    "import numpy as np\n",
    "import matplotlib.pyplot as plt\n",
    "from mpl_toolkits.mplot3d import Axes3D\n",
    "from itertools import combinations\n",
    "from ..src.utils.visualization import plot_thomson\n",
    "\n",
    "def thomson_solution(N):\n",
    "    \"\"\"\n",
    "    Placeholder function for generating particle positions on a sphere.\n",
    "    Uses random points on a sphere for demonstration.\n",
    "    Replace with actual Thomson Problem solver.\n",
    "    \"\"\"\n",
    "    phi = np.random.uniform(0, 2 * np.pi, N)\n",
    "    costheta = np.random.uniform(-1, 1, N)\n",
    "    theta = np.arccos(costheta)\n",
    "    x = np.sin(theta) * np.cos(phi)\n",
    "    y = np.sin(theta) * np.sin(phi)\n",
    "    z = np.cos(theta)\n",
    "    return np.array([x, y, z]).T\n",
    "\n",
    "# Visualization\n",
    "fig = plt.figure(figsize=(18, 4))  # Adjust the width for a horizontal layout\n",
    "N_values = [2, 3, 4, 5, 6, 7]\n",
    "for i, N in enumerate(N_values, 1):\n",
    "    ax = fig.add_subplot(1, len(N_values), i, projection='3d')  # 1 row, len(N_values) columns\n",
    "    points = thomson_solution(N)\n",
    "    plot_thomson(points, ax, N)\n",
    "\n",
    "plt.tight_layout()\n",
    "plt.show()\n"
   ]
  },
  {
   "cell_type": "code",
   "execution_count": 12,
   "metadata": {},
   "outputs": [
    {
     "name": "stdout",
     "output_type": "stream",
     "text": [
      "├── TODO.txt\n",
      "├── LICENSE\n",
      "├── README.md\n",
      "├── assets\n",
      "│   └── example.png\n",
      "└── notebooks\n",
      "    └── plots.ipynb\n"
     ]
    }
   ],
   "source": [
    "import os\n",
    "\n",
    "def print_tree(directory, prefix=\"\"):\n",
    "    items = os.listdir(directory)\n",
    "    for index, item in enumerate(items):\n",
    "        if \".git\" in item:\n",
    "            continue\n",
    "        path = os.path.join(directory, item)\n",
    "        connector = \"└── \" if index == len(items) - 1 else \"├── \"\n",
    "        print(prefix + connector + item)\n",
    "        if os.path.isdir(path):\n",
    "            print_tree(path, prefix + (\"    \" if index == len(items) - 1 else \"│   \"))\n",
    "\n",
    "\n",
    "print_tree(\"/Users/buelles/Documents/code/thomson\")"
   ]
  },
  {
   "cell_type": "code",
   "execution_count": null,
   "metadata": {},
   "outputs": [],
   "source": [
    "from IPython.display import clear_output"
   ]
  }
 ],
 "metadata": {
  "kernelspec": {
   "display_name": "thomson",
   "language": "python",
   "name": "python3"
  },
  "language_info": {
   "codemirror_mode": {
    "name": "ipython",
    "version": 3
   },
   "file_extension": ".py",
   "mimetype": "text/x-python",
   "name": "python",
   "nbconvert_exporter": "python",
   "pygments_lexer": "ipython3",
   "version": "3.10.16"
  }
 },
 "nbformat": 4,
 "nbformat_minor": 2
}
