{
 "cells": [
  {
   "cell_type": "markdown",
   "metadata": {},
   "source": [
    "## Thomson Numerical Optimization"
   ]
  },
  {
   "cell_type": "code",
   "execution_count": null,
   "metadata": {},
   "outputs": [],
   "source": [
    "import torch\n",
    "\n",
    "# Parameters\n",
    "N = 6  # Number of points\n",
    "lr = 0.01  # Learning rate\n",
    "steps = 1000  # Number of optimization steps\n",
    "\n",
    "# Initialize points randomly on the sphere\n",
    "points = torch.randn(N, 3, requires_grad=True)\n",
    "points.data /= points.data.norm(dim=1, keepdim=True)  # Normalize to lie on the sphere\n",
    "\n",
    "# Optimizer\n",
    "optimizer = torch.optim.Adam([points], lr=lr)\n",
    "\n",
    "# Optimization loop\n",
    "for step in range(steps):\n",
    "    # Zero the gradients\n",
    "    optimizer.zero_grad()\n",
    "\n",
    "    # Compute the energy\n",
    "    energy = 0\n",
    "    for i in range(N):\n",
    "        for j in range(i + 1, N):\n",
    "            distance = torch.norm(points[i] - points[j])\n",
    "            energy += 1 / distance  # Coulomb potential\n",
    "\n",
    "    # Backpropagate to compute gradients\n",
    "    energy.backward()\n",
    "\n",
    "    # Project gradients onto the tangent space of the sphere\n",
    "    with torch.no_grad():\n",
    "        grad = points.grad\n",
    "        tangent_grad = grad - (grad * points).sum(dim=1, keepdim=True) * points\n",
    "        points.grad.copy_(tangent_grad)  # Replace the gradient with the tangent component\n",
    "\n",
    "    # Take an optimizer step\n",
    "    optimizer.step()\n",
    "\n",
    "    # Reproject points back onto the sphere\n",
    "    with torch.no_grad():\n",
    "        points.data /= points.data.norm(dim=1, keepdim=True)\n",
    "\n",
    "    # Print progress\n",
    "    if step % 100 == 0:\n",
    "        print(f\"Step {step}, Energy: {energy.item()}\")\n",
    "\n",
    "# Final result\n",
    "print(\"Optimized Points:\")\n",
    "print(points)\n"
   ]
  }
 ],
 "metadata": {
  "kernelspec": {
   "display_name": "thomson",
   "language": "python",
   "name": "python3"
  },
  "language_info": {
   "name": "python",
   "version": "3.10.16"
  }
 },
 "nbformat": 4,
 "nbformat_minor": 2
}
