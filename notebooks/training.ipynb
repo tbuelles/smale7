{
 "cells": [
  {
   "cell_type": "markdown",
   "metadata": {},
   "source": [
    "## Thomson Numerical Optimization"
   ]
  },
  {
   "cell_type": "code",
   "execution_count": null,
   "metadata": {},
   "outputs": [],
   "source": [
    "import torch\n",
    "import matplotlib.pyplot as plt\n",
    "from IPython.display import clear_output\n",
    "\n",
    "# Parameters\n",
    "N = 3  # Number of points\n",
    "lr = 0.01  # Learning rate\n",
    "num_steps = 1000  # Number of optimization steps\n",
    "\n",
    "# Initialize points randomly on the sphere\n",
    "points = torch.randn(N, 3)  # Create without gradients\n",
    "points /= points.norm(dim=1, keepdim=True)  # Normalize to lie on the sphere\n",
    "points.requires_grad_()  # Enable gradients\n",
    "\n",
    "# Optimizer\n",
    "optimizer = torch.optim.Adam([points], lr=lr)\n",
    "\n",
    "# Optimization loop\n",
    "for step in range(num_steps):\n",
    "    # Zero the gradients\n",
    "    optimizer.zero_grad()\n",
    "\n",
    "    # Compute the energy\n",
    "    energy = 0\n",
    "    for i in range(N):\n",
    "        for j in range(i + 1, N):\n",
    "            distance = torch.norm(points[i] - points[j])\n",
    "            energy += 1 / distance  # Coulomb potential\n",
    "\n",
    "    # Backpropagate to compute gradients\n",
    "    energy.backward()\n",
    "\n",
    "    # Project gradients onto the tangent space of the sphere\n",
    "    with torch.no_grad():\n",
    "        grad = points.grad\n",
    "        tangent_grad = grad - (grad * points).sum(dim=1, keepdim=True) * points\n",
    "        points.grad.copy_(tangent_grad)  # Replace the gradient with the tangent component\n",
    "\n",
    "    # Take an optimizer step\n",
    "    optimizer.step()\n",
    "\n",
    "    # Reproject points back onto the sphere\n",
    "    with torch.no_grad():\n",
    "        points.data /= points.data.norm(dim=1, keepdim=True)\n",
    "\n",
    "    # Visualization every 10 steps\n",
    "    if step % 10 == 0 or step == steps - 1:\n",
    "        print(f\"Step {step}, Energy: {energy.item()}\")\n",
    "        clear_output(wait=True)  # Clear previous plot\n",
    "        fig = plt.figure(figsize=(6, 6))\n",
    "        ax = fig.add_subplot(111, projection='3d')\n",
    "        plot_thomson(ax, points)\n",
    "        plt.title(f\"Step {step}, Energy: {energy.item():.4f}\")\n",
    "        plt.show()\n",
    "\n",
    "# Final result\n",
    "print(\"Optimized Points:\")\n",
    "print(points)\n"
   ]
  }
 ],
 "metadata": {
  "kernelspec": {
   "display_name": "thomson",
   "language": "python",
   "name": "python3"
  },
  "language_info": {
   "name": "python",
   "version": "3.10.16"
  }
 },
 "nbformat": 4,
 "nbformat_minor": 2
}
